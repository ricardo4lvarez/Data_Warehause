{
 "cells": [
  {
   "cell_type": "markdown",
   "id": "44a2825a",
   "metadata": {},
   "source": [
    "# Manejo del formato de los datos\n",
    "Debido a que los datos de \"last_update\" vienen tal que: 2022-02-15 12:57:20+03; he decidido quitar la zona horaria para poder ingresar los datos a la BdD."
   ]
  },
  {
   "cell_type": "code",
   "execution_count": 1,
   "id": "fb01d08a",
   "metadata": {},
   "outputs": [],
   "source": [
    "import pandas as pd\n",
    "import os\n",
    "import glob"
   ]
  },
  {
   "cell_type": "code",
   "execution_count": 2,
   "id": "5c30db69",
   "metadata": {},
   "outputs": [
    {
     "name": "stdout",
     "output_type": "stream",
     "text": [
      "Guardado como: D:/Memoria/SQL/Movies\\l_actor.csv\n",
      "Guardado como: D:/Memoria/SQL/Movies\\l_address.csv\n",
      "Guardado como: D:/Memoria/SQL/Movies\\l_category.csv\n",
      "Guardado como: D:/Memoria/SQL/Movies\\l_city.csv\n",
      "Guardado como: D:/Memoria/SQL/Movies\\l_country.csv\n",
      "Guardado como: D:/Memoria/SQL/Movies\\l_customer.csv\n",
      "Guardado como: D:/Memoria/SQL/Movies\\l_film.csv\n",
      "Guardado como: D:/Memoria/SQL/Movies\\l_film_actor.csv\n",
      "Guardado como: D:/Memoria/SQL/Movies\\l_film_category.csv\n",
      "Guardado como: D:/Memoria/SQL/Movies\\l_inventory.csv\n",
      "Guardado como: D:/Memoria/SQL/Movies\\l_language.csv\n",
      "Guardado como: D:/Memoria/SQL/Movies\\l_payment.csv\n",
      "Guardado como: D:/Memoria/SQL/Movies\\l_rental.csv\n",
      "Guardado como: D:/Memoria/SQL/Movies\\l_staff.csv\n",
      "Guardado como: D:/Memoria/SQL/Movies\\l_store.csv\n"
     ]
    }
   ],
   "source": [
    "# Ruta a los archivos CSV\n",
    "carpeta = \"D:/Memoria/SQL/Movies\"  # <- cambialo por el path real\n",
    "archivos = glob.glob(os.path.join(carpeta, \"*.csv\"))\n",
    "\n",
    "# Columnas que deseas limpiar (ajusta si tienes varias)\n",
    "columnas_con_zona_horaria = [\"last_update\"]\n",
    "\n",
    "# Procesamiento de todos los archivos\n",
    "for archivo in archivos:\n",
    "    df = pd.read_csv(archivo)\n",
    "\n",
    "    # Quitar zona horaria\n",
    "    for col in columnas_con_zona_horaria:\n",
    "        if col in df.columns:\n",
    "            df[col] = df[col].astype(str).str.replace(r'([+-]\\d{2})$', '', regex=True)\n",
    "\n",
    "    # Guardar archivo limpio\n",
    "    nombre_salida = os.path.join(carpeta, \"l_\" + os.path.basename(archivo))\n",
    "    df.to_csv(nombre_salida, index=False)\n",
    "    print(f\"Guardado como: {nombre_salida}\")"
   ]
  }
 ],
 "metadata": {
  "kernelspec": {
   "display_name": "Python 3",
   "language": "python",
   "name": "python3"
  },
  "language_info": {
   "codemirror_mode": {
    "name": "ipython",
    "version": 3
   },
   "file_extension": ".py",
   "mimetype": "text/x-python",
   "name": "python",
   "nbconvert_exporter": "python",
   "pygments_lexer": "ipython3",
   "version": "3.11.9"
  }
 },
 "nbformat": 4,
 "nbformat_minor": 5
}
