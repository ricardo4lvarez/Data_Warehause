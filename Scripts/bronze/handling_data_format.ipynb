{
 "cells": [
  {
   "cell_type": "markdown",
   "id": "44a2825a",
   "metadata": {},
   "source": [
    "# Handling Data Format\n",
    "Due to \"last_update\" data format is: 2022-02-15 12:57:20+03 I cant load it in the DB, so I´ve decided to take out the time zone.\n",
    "\n",
    "• This files will be saved in the same folder with \"l_\" prefix meaning \"limpio\" from clean in spanish."
   ]
  },
  {
   "cell_type": "code",
   "execution_count": 1,
   "id": "fb01d08a",
   "metadata": {},
   "outputs": [],
   "source": [
    "import pandas as pd\n",
    "import os\n",
    "import glob\n",
    "import re"
   ]
  },
  {
   "cell_type": "code",
   "execution_count": 2,
   "id": "5c30db69",
   "metadata": {},
   "outputs": [
    {
     "name": "stdout",
     "output_type": "stream",
     "text": [
      "Save as: D:/Memoria/SQL/Movies\\l_actor.csv\n",
      "Save as: D:/Memoria/SQL/Movies\\l_address.csv\n",
      "Save as: D:/Memoria/SQL/Movies\\l_category.csv\n",
      "Save as: D:/Memoria/SQL/Movies\\l_city.csv\n",
      "Save as: D:/Memoria/SQL/Movies\\l_country.csv\n",
      "Save as: D:/Memoria/SQL/Movies\\l_customer.csv\n",
      "Save as: D:/Memoria/SQL/Movies\\l_film.csv\n",
      "Save as: D:/Memoria/SQL/Movies\\l_film_actor.csv\n",
      "Save as: D:/Memoria/SQL/Movies\\l_film_category.csv\n",
      "Save as: D:/Memoria/SQL/Movies\\l_inventory.csv\n",
      "Save as: D:/Memoria/SQL/Movies\\l_language.csv\n",
      "Save as: D:/Memoria/SQL/Movies\\l_payment.csv\n",
      "Save as: D:/Memoria/SQL/Movies\\l_rental.csv\n",
      "Save as: D:/Memoria/SQL/Movies\\l_staff.csv\n",
      "Save as: D:/Memoria/SQL/Movies\\l_store.csv\n"
     ]
    }
   ],
   "source": [
    "# CSV filepath\n",
    "folder = \"D:/Memoria/SQL/Movies\"\n",
    "files = glob.glob(os.path.join(folder, \"*.csv\"))\n",
    "\n",
    "# Columns to treat\n",
    "columns_with_time_zone = [\"last_update\", \"payment_date\", \"return_date\", \"rental_date\"]\n",
    "colums_with_comas_brackets = \"special_features\"\n",
    "\n",
    "def replace_comas_inside_brackets(text):\n",
    "    # Extracts everything inside brackets\n",
    "    pattern = r'\\{(.*?)\\}'\n",
    "    match = re.search(pattern, text)\n",
    "    if match:\n",
    "        content = match.group(1)\n",
    "        replaced_content = content.replace(',', ';')\n",
    "        return text.replace(match.group(1), replaced_content)\n",
    "    return text\n",
    "\n",
    "# Procesing\n",
    "for file in files:\n",
    "    df = pd.read_csv(file)\n",
    "\n",
    "    # Delete time zone (+03, etc.)\n",
    "    for col in columns_with_time_zone:\n",
    "        if col in df.columns:\n",
    "            df[col] = df[col].astype(str).str.replace(r'([+-]\\d{2}(:\\d{2})?)$', '', regex=True)\n",
    "\n",
    "    # Replace comas inside {}\n",
    "    if colums_with_comas_brackets in df.columns:\n",
    "        df[colums_with_comas_brackets] = df[colums_with_comas_brackets].astype(str).apply(replace_comas_inside_brackets)\n",
    "\n",
    "    # Save\n",
    "    save_name = os.path.join(folder, \"l_\" + os.path.basename(file))\n",
    "    df.to_csv(save_name, index=False)\n",
    "    print(f\"Save as: {save_name}\")"
   ]
  }
 ],
 "metadata": {
  "kernelspec": {
   "display_name": "Python 3",
   "language": "python",
   "name": "python3"
  },
  "language_info": {
   "codemirror_mode": {
    "name": "ipython",
    "version": 3
   },
   "file_extension": ".py",
   "mimetype": "text/x-python",
   "name": "python",
   "nbconvert_exporter": "python",
   "pygments_lexer": "ipython3",
   "version": "3.11.9"
  }
 },
 "nbformat": 4,
 "nbformat_minor": 5
}
