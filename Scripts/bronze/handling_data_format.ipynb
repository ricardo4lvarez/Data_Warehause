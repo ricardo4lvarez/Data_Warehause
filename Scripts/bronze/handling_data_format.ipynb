{
 "cells": [
  {
   "cell_type": "code",
   "execution_count": 1,
   "id": "5c30db69",
   "metadata": {},
   "outputs": [
    {
     "name": "stdout",
     "output_type": "stream",
     "text": [
      "Procesando: D:/Memoria/SQL/Movies\\actor.csv\n",
      "Guardado como: D:/Memoria/SQL/Movies\\l_actor.csv\n",
      "Procesando: D:/Memoria/SQL/Movies\\address.csv\n",
      "Guardado como: D:/Memoria/SQL/Movies\\l_address.csv\n",
      "Procesando: D:/Memoria/SQL/Movies\\category.csv\n",
      "Guardado como: D:/Memoria/SQL/Movies\\l_category.csv\n",
      "Procesando: D:/Memoria/SQL/Movies\\city.csv\n",
      "Guardado como: D:/Memoria/SQL/Movies\\l_city.csv\n",
      "Procesando: D:/Memoria/SQL/Movies\\country.csv\n",
      "Guardado como: D:/Memoria/SQL/Movies\\l_country.csv\n",
      "Procesando: D:/Memoria/SQL/Movies\\customer.csv\n",
      "Guardado como: D:/Memoria/SQL/Movies\\l_customer.csv\n",
      "Procesando: D:/Memoria/SQL/Movies\\film.csv\n",
      "Guardado como: D:/Memoria/SQL/Movies\\l_film.csv\n",
      "Procesando: D:/Memoria/SQL/Movies\\film_actor.csv\n",
      "Guardado como: D:/Memoria/SQL/Movies\\l_film_actor.csv\n",
      "Procesando: D:/Memoria/SQL/Movies\\film_category.csv\n",
      "Guardado como: D:/Memoria/SQL/Movies\\l_film_category.csv\n",
      "Procesando: D:/Memoria/SQL/Movies\\inventory.csv\n",
      "Guardado como: D:/Memoria/SQL/Movies\\l_inventory.csv\n",
      "Procesando: D:/Memoria/SQL/Movies\\language.csv\n",
      "Guardado como: D:/Memoria/SQL/Movies\\l_language.csv\n",
      "Procesando: D:/Memoria/SQL/Movies\\payment.csv\n",
      "Guardado como: D:/Memoria/SQL/Movies\\l_payment.csv\n",
      "Procesando: D:/Memoria/SQL/Movies\\rental.csv\n",
      "Guardado como: D:/Memoria/SQL/Movies\\l_rental.csv\n",
      "Procesando: D:/Memoria/SQL/Movies\\staff.csv\n",
      "Guardado como: D:/Memoria/SQL/Movies\\l_staff.csv\n",
      "Procesando: D:/Memoria/SQL/Movies\\store.csv\n",
      "Guardado como: D:/Memoria/SQL/Movies\\l_store.csv\n"
     ]
    }
   ],
   "source": [
    "import pandas as pd\n",
    "import os\n",
    "import glob\n",
    "\n",
    "# Ruta a los archivos CSV\n",
    "carpeta = \"D:/Memoria/SQL/Movies\"  # <- cambialo por el path real\n",
    "archivos = glob.glob(os.path.join(carpeta, \"*.csv\"))\n",
    "\n",
    "# Columnas que deseas limpiar (ajusta si tienes varias)\n",
    "columnas_con_zona_horaria = [\"last_update\"]\n",
    "\n",
    "# Procesamiento de todos los archivos\n",
    "for archivo in archivos:\n",
    "    print(f\"Procesando: {archivo}\")\n",
    "    df = pd.read_csv(archivo)\n",
    "\n",
    "    # Quitar zona horaria de las columnas indicadas\n",
    "    for col in columnas_con_zona_horaria:\n",
    "        if col in df.columns:\n",
    "            df[col] = df[col].astype(str).str.replace(r'([+-]\\d{2})$', '', regex=True)\n",
    "\n",
    "    # Guardar archivo limpio\n",
    "    nombre_salida = os.path.join(carpeta, \"l_\" + os.path.basename(archivo))\n",
    "    df.to_csv(nombre_salida, index=False)\n",
    "    print(f\"Guardado como: {nombre_salida}\")"
   ]
  }
 ],
 "metadata": {
  "kernelspec": {
   "display_name": "Python 3",
   "language": "python",
   "name": "python3"
  },
  "language_info": {
   "codemirror_mode": {
    "name": "ipython",
    "version": 3
   },
   "file_extension": ".py",
   "mimetype": "text/x-python",
   "name": "python",
   "nbconvert_exporter": "python",
   "pygments_lexer": "ipython3",
   "version": "3.11.9"
  }
 },
 "nbformat": 4,
 "nbformat_minor": 5
}
