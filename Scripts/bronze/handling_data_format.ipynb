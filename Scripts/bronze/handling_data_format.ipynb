{
 "cells": [
  {
   "cell_type": "markdown",
   "id": "44a2825a",
   "metadata": {},
   "source": [
    "# Manejo del formato de los datos\n",
    "Debido a que los datos de \"last_update\" vienen tal que: 2022-02-15 12:57:20+03; he decidido quitar la zona horaria para poder ingresar los datos a la BdD.\n",
    "• Estos archivos serán guardados dentro de la misma carpeta, pero con el prefijo \"l_\" de \"limpio\"."
   ]
  },
  {
   "cell_type": "code",
   "execution_count": 5,
   "id": "fb01d08a",
   "metadata": {},
   "outputs": [],
   "source": [
    "import pandas as pd\n",
    "import os\n",
    "import glob\n",
    "import re"
   ]
  },
  {
   "cell_type": "code",
   "execution_count": 9,
   "id": "5c30db69",
   "metadata": {},
   "outputs": [
    {
     "name": "stdout",
     "output_type": "stream",
     "text": [
      "Guardado como: D:/Memoria/SQL/Movies\\l_actor.csv\n",
      "Guardado como: D:/Memoria/SQL/Movies\\l_address.csv\n",
      "Guardado como: D:/Memoria/SQL/Movies\\l_category.csv\n",
      "Guardado como: D:/Memoria/SQL/Movies\\l_city.csv\n",
      "Guardado como: D:/Memoria/SQL/Movies\\l_country.csv\n",
      "Guardado como: D:/Memoria/SQL/Movies\\l_customer.csv\n",
      "Guardado como: D:/Memoria/SQL/Movies\\l_film.csv\n",
      "Guardado como: D:/Memoria/SQL/Movies\\l_film_actor.csv\n",
      "Guardado como: D:/Memoria/SQL/Movies\\l_film_category.csv\n",
      "Guardado como: D:/Memoria/SQL/Movies\\l_inventory.csv\n",
      "Guardado como: D:/Memoria/SQL/Movies\\l_language.csv\n",
      "Guardado como: D:/Memoria/SQL/Movies\\l_payment.csv\n",
      "Guardado como: D:/Memoria/SQL/Movies\\l_rental.csv\n",
      "Guardado como: D:/Memoria/SQL/Movies\\l_staff.csv\n",
      "Guardado como: D:/Memoria/SQL/Movies\\l_store.csv\n"
     ]
    }
   ],
   "source": [
    "# Ruta a los archivos CSV\n",
    "carpeta = \"D:/Memoria/SQL/Movies\"\n",
    "archivos = glob.glob(os.path.join(carpeta, \"*.csv\"))\n",
    "\n",
    "# Columnas a tratar\n",
    "columnas_con_zona_horaria = [\"last_update\", \"payment_date\", \"return_date\", \"rental_date\"]\n",
    "columna_con_llaves_y_comas = \"special_features\"\n",
    "\n",
    "def reemplazar_comas_dentro_de_llaves(texto):\n",
    "    # Extrae todo lo que está dentro de llaves\n",
    "    patron = r'\\{(.*?)\\}'\n",
    "    match = re.search(patron, texto)\n",
    "    if match:\n",
    "        contenido = match.group(1)\n",
    "        contenido_reemplazado = contenido.replace(',', ';')\n",
    "        return texto.replace(match.group(1), contenido_reemplazado)\n",
    "    return texto\n",
    "\n",
    "# Procesamiento\n",
    "for archivo in archivos:\n",
    "    df = pd.read_csv(archivo)\n",
    "\n",
    "    # Quitar zona horaria (+03, etc.)\n",
    "    for col in columnas_con_zona_horaria:\n",
    "        if col in df.columns:\n",
    "            df[col] = df[col].astype(str).str.replace(r'([+-]\\d{2}(:\\d{2})?)$', '', regex=True)\n",
    "\n",
    "    # Reemplazar comas dentro de {} en special_features\n",
    "    if columna_con_llaves_y_comas in df.columns:\n",
    "        df[columna_con_llaves_y_comas] = df[columna_con_llaves_y_comas].astype(str).apply(reemplazar_comas_dentro_de_llaves)\n",
    "\n",
    "    # Guardar\n",
    "    nombre_salida = os.path.join(carpeta, \"l_\" + os.path.basename(archivo))\n",
    "    df.to_csv(nombre_salida, index=False)\n",
    "    print(f\"Guardado como: {nombre_salida}\")"
   ]
  }
 ],
 "metadata": {
  "kernelspec": {
   "display_name": "Python 3",
   "language": "python",
   "name": "python3"
  },
  "language_info": {
   "codemirror_mode": {
    "name": "ipython",
    "version": 3
   },
   "file_extension": ".py",
   "mimetype": "text/x-python",
   "name": "python",
   "nbconvert_exporter": "python",
   "pygments_lexer": "ipython3",
   "version": "3.11.9"
  }
 },
 "nbformat": 4,
 "nbformat_minor": 5
}
